{
 "cells": [
  {
   "cell_type": "code",
   "execution_count": 1,
   "id": "f37177b7-1797-4a0e-89ca-8f2566b4ca3d",
   "metadata": {
    "tags": []
   },
   "outputs": [
    {
     "name": "stdout",
     "output_type": "stream",
     "text": [
      "Requirement already satisfied: transformers in /usr/local/lib/python3.11/dist-packages (4.35.2)\n",
      "Requirement already satisfied: filelock in /usr/local/lib/python3.11/dist-packages (from transformers) (3.13.1)\n",
      "Requirement already satisfied: huggingface-hub<1.0,>=0.16.4 in /usr/local/lib/python3.11/dist-packages (from transformers) (0.20.3)\n",
      "Requirement already satisfied: numpy>=1.17 in /usr/local/lib/python3.11/dist-packages (from transformers) (1.26.3)\n",
      "Requirement already satisfied: packaging>=20.0 in /usr/local/lib/python3.11/dist-packages (from transformers) (23.2)\n",
      "Requirement already satisfied: pyyaml>=5.1 in /usr/lib/python3/dist-packages (from transformers) (5.4.1)\n",
      "Requirement already satisfied: regex!=2019.12.17 in /usr/local/lib/python3.11/dist-packages (from transformers) (2023.12.25)\n",
      "Requirement already satisfied: requests in /usr/local/lib/python3.11/dist-packages (from transformers) (2.31.0)\n",
      "Requirement already satisfied: tokenizers<0.19,>=0.14 in /usr/local/lib/python3.11/dist-packages (from transformers) (0.15.1)\n",
      "Requirement already satisfied: safetensors>=0.3.1 in /usr/local/lib/python3.11/dist-packages (from transformers) (0.4.0)\n",
      "Requirement already satisfied: tqdm>=4.27 in /usr/local/lib/python3.11/dist-packages (from transformers) (4.66.1)\n",
      "Requirement already satisfied: fsspec>=2023.5.0 in /usr/local/lib/python3.11/dist-packages (from huggingface-hub<1.0,>=0.16.4->transformers) (2023.6.0)\n",
      "Requirement already satisfied: typing-extensions>=3.7.4.3 in /usr/local/lib/python3.11/dist-packages (from huggingface-hub<1.0,>=0.16.4->transformers) (4.9.0)\n",
      "Requirement already satisfied: charset-normalizer<4,>=2 in /usr/local/lib/python3.11/dist-packages (from requests->transformers) (3.3.2)\n",
      "Requirement already satisfied: idna<4,>=2.5 in /usr/lib/python3/dist-packages (from requests->transformers) (3.3)\n",
      "Requirement already satisfied: urllib3<3,>=1.21.1 in /usr/local/lib/python3.11/dist-packages (from requests->transformers) (2.0.7)\n",
      "Requirement already satisfied: certifi>=2017.4.17 in /usr/lib/python3/dist-packages (from requests->transformers) (2020.6.20)\n",
      "\u001b[33mWARNING: Running pip as the 'root' user can result in broken permissions and conflicting behaviour with the system package manager. It is recommended to use a virtual environment instead: https://pip.pypa.io/warnings/venv\u001b[0m\u001b[33m\n",
      "\u001b[0m"
     ]
    }
   ],
   "source": [
    "!pip install transformers"
   ]
  },
  {
   "cell_type": "code",
   "execution_count": 30,
   "id": "07ada123-a01f-463f-adf0-dfa766102e1f",
   "metadata": {
    "tags": []
   },
   "outputs": [
    {
     "name": "stdout",
     "output_type": "stream",
     "text": [
      "Cargando modelo y procesador CLIP...\n"
     ]
    },
    {
     "data": {
      "application/vnd.jupyter.widget-view+json": {
       "model_id": "cde999c81a084c60be783edd8a55af2e",
       "version_major": 2,
       "version_minor": 0
      },
      "text/plain": [
       "config.json: 0.00B [00:00, ?B/s]"
      ]
     },
     "metadata": {},
     "output_type": "display_data"
    },
    {
     "name": "stderr",
     "output_type": "stream",
     "text": [
      "`text_config_dict` is provided which will be used to initialize `CLIPTextConfig`. The value `text_config[\"id2label\"]` will be overriden.\n",
      "`text_config_dict` is provided which will be used to initialize `CLIPTextConfig`. The value `text_config[\"bos_token_id\"]` will be overriden.\n",
      "`text_config_dict` is provided which will be used to initialize `CLIPTextConfig`. The value `text_config[\"eos_token_id\"]` will be overriden.\n"
     ]
    },
    {
     "data": {
      "application/vnd.jupyter.widget-view+json": {
       "model_id": "b332597b468d4f8d9cd838e173337258",
       "version_major": 2,
       "version_minor": 0
      },
      "text/plain": [
       "model.safetensors:   0%|          | 0.00/1.71G [00:00<?, ?B/s]"
      ]
     },
     "metadata": {},
     "output_type": "display_data"
    },
    {
     "name": "stdout",
     "output_type": "stream",
     "text": [
      "Modelo y procesador cargados.\n"
     ]
    }
   ],
   "source": [
    "import torch\n",
    "from PIL import Image\n",
    "import requests\n",
    "from transformers import CLIPProcessor, CLIPModel\n",
    "\n",
    "  # Carga el modelo y el procesador.\n",
    "print(\"Cargando modelo y procesador CLIP...\")\n",
    "model = CLIPModel.from_pretrained(\"openai/clip-vit-large-patch14\")\n",
    "processor = CLIPProcessor.from_pretrained(\"openai/clip-vit-base-patch32\")\n",
    "print(\"Modelo y procesador cargados.\")\n",
    "\n",
    "def get_image_embedding(caption: str, image: Image.Image) -> torch.Tensor:\n",
    "  \"\"\"\n",
    "  Genera el embedding para una imagen dada, cargando el modelo CLIP en cada llamada.\n",
    "\n",
    "  **Advertencia de rendimiento:** Cargar el modelo y el procesador en cada\n",
    "  llamada es ineficiente. Para procesar múltiples imágenes, es mejor\n",
    "  cargarlos una sola vez fuera de la función.\n",
    "\n",
    "  Args:\n",
    "    image: La imagen para la cual generar el embedding (objeto PIL.Image).\n",
    "\n",
    "  Returns:\n",
    "    Un tensor de PyTorch que representa el embedding de la imagen.\n",
    "  \"\"\"\n",
    "\n",
    "  inputs = processor(text=[caption],images=image, return_tensors=\"pt\")\n",
    "  \n",
    "  outputs = model(**inputs)\n",
    "  return outputs.image_embeds"
   ]
  },
  {
   "cell_type": "code",
   "execution_count": 21,
   "id": "d879662b-330c-4919-a721-66068c8596ea",
   "metadata": {
    "tags": []
   },
   "outputs": [],
   "source": [
    "def calculate_cosine_similarity(embedding1: torch.Tensor, embedding2: torch.Tensor) -> float:\n",
    "  \"\"\"\n",
    "  Calcula la similitud del coseno entre dos embeddings.\n",
    "\n",
    "  Args:\n",
    "    embedding1: El primer tensor de embedding.\n",
    "    embedding2: El segundo tensor de embedding.\n",
    "\n",
    "  Returns:\n",
    "    El valor de la similitud del coseno como un flotante.\n",
    "  \"\"\"\n",
    "  cos = torch.nn.CosineSimilarity(dim=1)\n",
    "  similarity = cos(embedding1, embedding2)\n",
    "  return similarity.item()\n"
   ]
  },
  {
   "cell_type": "code",
   "execution_count": 27,
   "id": "e89e9f3d-8c7e-4ab4-a302-a0db326f48e1",
   "metadata": {
    "tags": []
   },
   "outputs": [],
   "source": [
    "def compare_images_from_urls(url1: str, url2: str):\n",
    "  \"\"\"\n",
    "  Descarga dos imágenes desde URLs, calcula sus embeddings y muestra su similitud.\n",
    "\n",
    "  Args:\n",
    "    url1: La URL de la primera imagen.\n",
    "    url2: La URL de la segunda imagen.\n",
    "  \"\"\"\n",
    "  print(f\"Comparando imágenes:\\n- URL 1: {url1}\\n- URL 2: {url2}\\n\")\n",
    "  try:\n",
    "    # Descargar y abrir las imágenes\n",
    "    print(\"Descargando imagen 1...\")\n",
    "    image1 = Image.open(requests.get(url1, stream=True).raw)\n",
    "    \n",
    "    print(\"Descargando imagen 2...\")\n",
    "    image2 = Image.open(requests.get(url2, stream=True).raw)\n",
    "    print(\"Imágenes descargadas.\\n\")\n",
    "\n",
    "    # Generar embeddings (esto llamará a la función que carga el modelo dos veces)\n",
    "    print(\"--- Generando embedding para imagen 1 ---\")\n",
    "    embedding1 = get_image_embedding(\"\",image1)\n",
    "    \n",
    "    print(\"\\n--- Generando embedding para imagen 2 ---\")\n",
    "    embedding2 = get_image_embedding(\"\",image2)\n",
    "\n",
    "    # Calcular similitud\n",
    "    similarity = calculate_cosine_similarity(embedding1, embedding2)\n",
    "\n",
    "    # Imprimir resultado\n",
    "    print(f\"\\nResultado final:\")\n",
    "    print(f\"La similitud del coseno entre las dos imágenes es: {similarity:.4f}\")\n",
    "\n",
    "  except Exception as e:\n",
    "    print(f\"Ha ocurrido un error: {e}\")\n"
   ]
  },
  {
   "cell_type": "code",
   "execution_count": 31,
   "id": "5184861b-e7ff-47fc-a385-2a3fc9f25ec6",
   "metadata": {
    "tags": []
   },
   "outputs": [
    {
     "name": "stdout",
     "output_type": "stream",
     "text": [
      "Comparando imágenes:\n",
      "- URL 1: https://imgs.search.brave.com/hZmuYmoHPsM1Zq6NV0S7epvi4Re79KGLDilDiggk14A/rs:fit:860:0:0:0/g:ce/aHR0cHM6Ly9tLm1l/ZGlhLWFtYXpvbi5j/b20vaW1hZ2VzL0kv/NzFXdUpZYjVSMUwu/anBn\n",
      "- URL 2: https://imgs.search.brave.com/D_bWLcxtpywNJRWPjZTqpIQm5x8aP-PfdQaTUYdB3_A/rs:fit:860:0:0:0/g:ce/aHR0cHM6Ly9tLm1l/ZGlhLWFtYXpvbi5j/b20vaW1hZ2VzL0kv/ODF2cWhqUERDRUwu/anBn\n",
      "\n",
      "Descargando imagen 1...\n",
      "Descargando imagen 2...\n",
      "Imágenes descargadas.\n",
      "\n",
      "--- Generando embedding para imagen 1 ---\n",
      "\n",
      "--- Generando embedding para imagen 2 ---\n",
      "\n",
      "Resultado final:\n",
      "La similitud del coseno entre las dos imágenes es: 0.6738\n"
     ]
    }
   ],
   "source": [
    "url1=\"https://imgs.search.brave.com/hZmuYmoHPsM1Zq6NV0S7epvi4Re79KGLDilDiggk14A/rs:fit:860:0:0:0/g:ce/aHR0cHM6Ly9tLm1l/ZGlhLWFtYXpvbi5j/b20vaW1hZ2VzL0kv/NzFXdUpZYjVSMUwu/anBn\"\n",
    "url2=\"https://imgs.search.brave.com/D_bWLcxtpywNJRWPjZTqpIQm5x8aP-PfdQaTUYdB3_A/rs:fit:860:0:0:0/g:ce/aHR0cHM6Ly9tLm1l/ZGlhLWFtYXpvbi5j/b20vaW1hZ2VzL0kv/ODF2cWhqUERDRUwu/anBn\"\n",
    "compare_images_from_urls(url1, url2)"
   ]
  },
  {
   "cell_type": "code",
   "execution_count": null,
   "id": "a74cae00-5e9d-4c28-ad30-8379596bf14f",
   "metadata": {},
   "outputs": [],
   "source": []
  }
 ],
 "metadata": {
  "kernelspec": {
   "display_name": "Python 3 (ipykernel)",
   "language": "python",
   "name": "python3"
  },
  "language_info": {
   "codemirror_mode": {
    "name": "ipython",
    "version": 3
   },
   "file_extension": ".py",
   "mimetype": "text/x-python",
   "name": "python",
   "nbconvert_exporter": "python",
   "pygments_lexer": "ipython3",
   "version": "3.11.7"
  }
 },
 "nbformat": 4,
 "nbformat_minor": 5
}
